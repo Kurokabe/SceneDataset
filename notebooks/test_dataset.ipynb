{
 "cells": [
  {
   "cell_type": "code",
   "execution_count": 1,
   "metadata": {},
   "outputs": [],
   "source": [
    "%load_ext autoreload\n",
    "%autoreload 2"
   ]
  },
  {
   "cell_type": "code",
   "execution_count": 2,
   "metadata": {},
   "outputs": [
    {
     "name": "stderr",
     "output_type": "stream",
     "text": [
      "/root/.cache/pypoetry/virtualenvs/scenedataset-mZH_Fr2s-py3.8/lib/python3.8/site-packages/torchvision/transforms/_functional_video.py:6: UserWarning: The 'torchvision.transforms._functional_video' module is deprecated since 0.12 and will be removed in the future. Please use the 'torchvision.transforms.functional' module instead.\n",
      "  warnings.warn(\n",
      "/root/.cache/pypoetry/virtualenvs/scenedataset-mZH_Fr2s-py3.8/lib/python3.8/site-packages/torchvision/transforms/_transforms_video.py:22: UserWarning: The 'torchvision.transforms._transforms_video' module is deprecated since 0.12 and will be removed in the future. Please use the 'torchvision.transforms' module instead.\n",
      "  warnings.warn(\n"
     ]
    }
   ],
   "source": [
    "from scenedataset.scenedataset import SceneDataset\n",
    "from torchvision import transforms\n",
    "from torchvision.transforms import _transforms_video as video_transforms"
   ]
  },
  {
   "cell_type": "code",
   "execution_count": 38,
   "metadata": {},
   "outputs": [
    {
     "name": "stderr",
     "output_type": "stream",
     "text": [
      "2023-02-16 17:38:28.198 | INFO     | scenedataset.scenedataset:_get_video_paths:493 - Found 1 videos\n",
      "2023-02-16 17:38:28.211 | INFO     | scenedataset.scenedataset:remove_duplicate_from_scenes:286 - Removing duplicates...\n"
     ]
    },
    {
     "data": {
      "application/vnd.jupyter.widget-view+json": {
       "model_id": "021edba6c8dc4cf7ac94e1f793c9db65",
       "version_major": 2,
       "version_minor": 0
      },
      "text/plain": [
       "Removing duplicates...:   0%|          | 0/16 [00:00<?, ?it/s]"
      ]
     },
     "metadata": {},
     "output_type": "display_data"
    }
   ],
   "source": [
    "dataset = SceneDataset(\n",
    "    paths=[\"/SceneDataset/data/01.mkv\"],\n",
    "    show_progress=True,\n",
    "    transform=transforms.Compose(\n",
    "        [video_transforms.ToTensorVideo(), transforms.Resize((128, 256))]\n",
    "    ),\n",
    "    min_max_len=(15, 25),\n",
    "    duplicate_threshold=0.01,\n",
    "    duplicate_metric=\"mse\",\n",
    ")\n"
   ]
  },
  {
   "cell_type": "code",
   "execution_count": 39,
   "metadata": {},
   "outputs": [
    {
     "data": {
      "text/plain": [
       "0"
      ]
     },
     "execution_count": 39,
     "metadata": {},
     "output_type": "execute_result"
    }
   ],
   "source": [
    "len(dataset.scenes)"
   ]
  },
  {
   "cell_type": "code",
   "execution_count": 40,
   "metadata": {},
   "outputs": [
    {
     "data": {
      "text/plain": [
       "[]"
      ]
     },
     "execution_count": 40,
     "metadata": {},
     "output_type": "execute_result"
    }
   ],
   "source": [
    "dataset.scenes"
   ]
  },
  {
   "cell_type": "code",
   "execution_count": null,
   "metadata": {},
   "outputs": [],
   "source": []
  }
 ],
 "metadata": {
  "kernelspec": {
   "display_name": "venv",
   "language": "python",
   "name": "python3"
  },
  "language_info": {
   "codemirror_mode": {
    "name": "ipython",
    "version": 3
   },
   "file_extension": ".py",
   "mimetype": "text/x-python",
   "name": "python",
   "nbconvert_exporter": "python",
   "pygments_lexer": "ipython3",
   "version": "3.8.10 (default, Nov 14 2022, 12:59:47) \n[GCC 9.4.0]"
  },
  "orig_nbformat": 4,
  "vscode": {
   "interpreter": {
    "hash": "31ae8cd823759671a542fb948385bf6b2f8ab16fa3698fe82a530ef05cfee5b5"
   }
  }
 },
 "nbformat": 4,
 "nbformat_minor": 2
}
