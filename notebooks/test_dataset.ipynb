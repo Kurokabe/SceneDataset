{
 "cells": [
  {
   "cell_type": "code",
   "execution_count": 1,
   "metadata": {},
   "outputs": [],
   "source": [
    "%load_ext autoreload\n",
    "%autoreload 2"
   ]
  },
  {
   "cell_type": "code",
   "execution_count": 2,
   "metadata": {},
   "outputs": [
    {
     "name": "stderr",
     "output_type": "stream",
     "text": [
      "/home/abdalla/scenedataset/venv/lib/python3.8/site-packages/tqdm/auto.py:22: TqdmWarning: IProgress not found. Please update jupyter and ipywidgets. See https://ipywidgets.readthedocs.io/en/stable/user_install.html\n",
      "  from .autonotebook import tqdm as notebook_tqdm\n"
     ]
    }
   ],
   "source": [
    "from scenedataset.scenedataset import SceneDataset"
   ]
  },
  {
   "cell_type": "code",
   "execution_count": 3,
   "metadata": {},
   "outputs": [
    {
     "ename": "FileNotFoundError",
     "evalue": "[Errno 2] No such file or directory: 'ffprobe'",
     "output_type": "error",
     "traceback": [
      "\u001b[0;31m---------------------------------------------------------------------------\u001b[0m",
      "\u001b[0;31mFileNotFoundError\u001b[0m                         Traceback (most recent call last)",
      "Cell \u001b[0;32mIn[3], line 1\u001b[0m\n\u001b[0;32m----> 1\u001b[0m dataset \u001b[39m=\u001b[39m SceneDataset(paths \u001b[39m=\u001b[39;49m [\u001b[39m\"\u001b[39;49m\u001b[39m/home/abdalla/TorchGANime/data/kny/raw_videos/01.mkv\u001b[39;49m\u001b[39m\"\u001b[39;49m], show_progress\u001b[39m=\u001b[39;49m\u001b[39mTrue\u001b[39;49;00m)\n",
      "File \u001b[0;32m~/scenedataset/src/scenedataset/scenedataset.py:91\u001b[0m, in \u001b[0;36mSceneDataset.__init__\u001b[0;34m(self, paths, transform, recursive, show_progress, min_max_len, detector, **kwargs)\u001b[0m\n\u001b[1;32m     54\u001b[0m \u001b[39m\u001b[39m\u001b[39m\"\"\"Dataset that will load scenes on the fly from a list of videos. The scenes are detected using the PySceneDetect library https://scenedetect.com/projects/Manual/en/latest/index.html.\u001b[39;00m\n\u001b[1;32m     55\u001b[0m \u001b[39mArgs:\u001b[39;00m\n\u001b[1;32m     56\u001b[0m \u001b[39m    paths (List[str]): List of paths to the videos. The paths can point to a video file or a folder containing video files.\u001b[39;00m\n\u001b[0;32m   (...)\u001b[0m\n\u001b[1;32m     88\u001b[0m \u001b[39m        - min_delta_hsv=None\u001b[39;00m\n\u001b[1;32m     89\u001b[0m \u001b[39m\"\"\"\u001b[39;00m\n\u001b[1;32m     90\u001b[0m \u001b[39mself\u001b[39m\u001b[39m.\u001b[39mshow_progress \u001b[39m=\u001b[39m show_progress\n\u001b[0;32m---> 91\u001b[0m \u001b[39mself\u001b[39m\u001b[39m.\u001b[39mvideo_paths \u001b[39m=\u001b[39m \u001b[39mself\u001b[39;49m\u001b[39m.\u001b[39;49m_get_video_paths(paths, recursive)\n\u001b[1;32m     92\u001b[0m \u001b[39mself\u001b[39m\u001b[39m.\u001b[39mtransform \u001b[39m=\u001b[39m transform\n\u001b[1;32m     93\u001b[0m \u001b[39mself\u001b[39m\u001b[39m.\u001b[39mmin_max_len \u001b[39m=\u001b[39m min_max_len\n",
      "File \u001b[0;32m~/scenedataset/src/scenedataset/scenedataset.py:335\u001b[0m, in \u001b[0;36mSceneDataset._get_video_paths\u001b[0;34m(self, paths, recursive)\u001b[0m\n\u001b[1;32m    333\u001b[0m \u001b[39mfor\u001b[39;00m path \u001b[39min\u001b[39;00m paths:\n\u001b[1;32m    334\u001b[0m     \u001b[39mfor\u001b[39;00m file_path \u001b[39min\u001b[39;00m glob(path, recursive\u001b[39m=\u001b[39mrecursive):\n\u001b[0;32m--> 335\u001b[0m         \u001b[39mif\u001b[39;00m \u001b[39mself\u001b[39;49m\u001b[39m.\u001b[39;49mcheck_if_video(file_path):\n\u001b[1;32m    336\u001b[0m             video_paths\u001b[39m.\u001b[39mappend(file_path)\n\u001b[1;32m    338\u001b[0m     \u001b[39m# if os.path.isfile(path):\u001b[39;00m\n\u001b[1;32m    339\u001b[0m     \u001b[39m#     # File\u001b[39;00m\n\u001b[1;32m    340\u001b[0m     \u001b[39m# else:\u001b[39;00m\n\u001b[0;32m   (...)\u001b[0m\n\u001b[1;32m    345\u001b[0m     \u001b[39m#             if self.check_if_video(file_path):\u001b[39;00m\n\u001b[1;32m    346\u001b[0m     \u001b[39m#                 video_paths.append(file_path)\u001b[39;00m\n",
      "File \u001b[0;32m~/scenedataset/src/scenedataset/scenedataset.py:359\u001b[0m, in \u001b[0;36mSceneDataset.check_if_video\u001b[0;34m(self, path)\u001b[0m\n\u001b[1;32m    352\u001b[0m \u001b[39mdef\u001b[39;00m \u001b[39mcheck_if_video\u001b[39m(\u001b[39mself\u001b[39m, path: \u001b[39mstr\u001b[39m) \u001b[39m-\u001b[39m\u001b[39m>\u001b[39m \u001b[39mbool\u001b[39m:\n\u001b[1;32m    353\u001b[0m \u001b[39m    \u001b[39m\u001b[39m\"\"\"Check the metadata of a file to see if it is a video.\u001b[39;00m\n\u001b[1;32m    354\u001b[0m \u001b[39m    Args:\u001b[39;00m\n\u001b[1;32m    355\u001b[0m \u001b[39m        path (str): Path of the file to check.\u001b[39;00m\n\u001b[1;32m    356\u001b[0m \u001b[39m    Returns:\u001b[39;00m\n\u001b[1;32m    357\u001b[0m \u001b[39m        bool: True if it is a video, False otherwise.\u001b[39;00m\n\u001b[1;32m    358\u001b[0m \u001b[39m    \"\"\"\u001b[39;00m\n\u001b[0;32m--> 359\u001b[0m     metadata \u001b[39m=\u001b[39m \u001b[39mself\u001b[39;49m\u001b[39m.\u001b[39;49mget_metadata(path)\n\u001b[1;32m    360\u001b[0m     \u001b[39mreturn\u001b[39;00m metadata[\u001b[39m\"\u001b[39m\u001b[39mcodec_type\u001b[39m\u001b[39m\"\u001b[39m] \u001b[39m==\u001b[39m \u001b[39m\"\u001b[39m\u001b[39mvideo\u001b[39m\u001b[39m\"\u001b[39m\n",
      "File \u001b[0;32m~/scenedataset/src/scenedataset/scenedataset.py:369\u001b[0m, in \u001b[0;36mSceneDataset.get_metadata\u001b[0;34m(self, path)\u001b[0m\n\u001b[1;32m    362\u001b[0m \u001b[39mdef\u001b[39;00m \u001b[39mget_metadata\u001b[39m(\u001b[39mself\u001b[39m, path: \u001b[39mstr\u001b[39m) \u001b[39m-\u001b[39m\u001b[39m>\u001b[39m \u001b[39mdict\u001b[39m:\n\u001b[1;32m    363\u001b[0m \u001b[39m    \u001b[39m\u001b[39m\"\"\"Use ffmpeg to retrieve the metadata of a file.\u001b[39;00m\n\u001b[1;32m    364\u001b[0m \u001b[39m    Args:\u001b[39;00m\n\u001b[1;32m    365\u001b[0m \u001b[39m        path (str): Path of the file to check.\u001b[39;00m\n\u001b[1;32m    366\u001b[0m \u001b[39m    Returns:\u001b[39;00m\n\u001b[1;32m    367\u001b[0m \u001b[39m        dict: Dictionary holding the metadata.\u001b[39;00m\n\u001b[1;32m    368\u001b[0m \u001b[39m    \"\"\"\u001b[39;00m\n\u001b[0;32m--> 369\u001b[0m     \u001b[39mreturn\u001b[39;00m ffmpeg\u001b[39m.\u001b[39;49mprobe(path, select_streams\u001b[39m=\u001b[39;49m\u001b[39m\"\u001b[39;49m\u001b[39mv\u001b[39;49m\u001b[39m\"\u001b[39;49m)[\u001b[39m\"\u001b[39m\u001b[39mstreams\u001b[39m\u001b[39m\"\u001b[39m][\u001b[39m0\u001b[39m]\n",
      "File \u001b[0;32m~/scenedataset/venv/lib/python3.8/site-packages/ffmpeg/_probe.py:20\u001b[0m, in \u001b[0;36mprobe\u001b[0;34m(filename, cmd, **kwargs)\u001b[0m\n\u001b[1;32m     17\u001b[0m args \u001b[39m+\u001b[39m\u001b[39m=\u001b[39m convert_kwargs_to_cmd_line_args(kwargs)\n\u001b[1;32m     18\u001b[0m args \u001b[39m+\u001b[39m\u001b[39m=\u001b[39m [filename]\n\u001b[0;32m---> 20\u001b[0m p \u001b[39m=\u001b[39m subprocess\u001b[39m.\u001b[39;49mPopen(args, stdout\u001b[39m=\u001b[39;49msubprocess\u001b[39m.\u001b[39;49mPIPE, stderr\u001b[39m=\u001b[39;49msubprocess\u001b[39m.\u001b[39;49mPIPE)\n\u001b[1;32m     21\u001b[0m out, err \u001b[39m=\u001b[39m p\u001b[39m.\u001b[39mcommunicate()\n\u001b[1;32m     22\u001b[0m \u001b[39mif\u001b[39;00m p\u001b[39m.\u001b[39mreturncode \u001b[39m!=\u001b[39m \u001b[39m0\u001b[39m:\n",
      "File \u001b[0;32m/usr/lib/python3.8/subprocess.py:858\u001b[0m, in \u001b[0;36mPopen.__init__\u001b[0;34m(self, args, bufsize, executable, stdin, stdout, stderr, preexec_fn, close_fds, shell, cwd, env, universal_newlines, startupinfo, creationflags, restore_signals, start_new_session, pass_fds, encoding, errors, text)\u001b[0m\n\u001b[1;32m    854\u001b[0m         \u001b[39mif\u001b[39;00m \u001b[39mself\u001b[39m\u001b[39m.\u001b[39mtext_mode:\n\u001b[1;32m    855\u001b[0m             \u001b[39mself\u001b[39m\u001b[39m.\u001b[39mstderr \u001b[39m=\u001b[39m io\u001b[39m.\u001b[39mTextIOWrapper(\u001b[39mself\u001b[39m\u001b[39m.\u001b[39mstderr,\n\u001b[1;32m    856\u001b[0m                     encoding\u001b[39m=\u001b[39mencoding, errors\u001b[39m=\u001b[39merrors)\n\u001b[0;32m--> 858\u001b[0m     \u001b[39mself\u001b[39;49m\u001b[39m.\u001b[39;49m_execute_child(args, executable, preexec_fn, close_fds,\n\u001b[1;32m    859\u001b[0m                         pass_fds, cwd, env,\n\u001b[1;32m    860\u001b[0m                         startupinfo, creationflags, shell,\n\u001b[1;32m    861\u001b[0m                         p2cread, p2cwrite,\n\u001b[1;32m    862\u001b[0m                         c2pread, c2pwrite,\n\u001b[1;32m    863\u001b[0m                         errread, errwrite,\n\u001b[1;32m    864\u001b[0m                         restore_signals, start_new_session)\n\u001b[1;32m    865\u001b[0m \u001b[39mexcept\u001b[39;00m:\n\u001b[1;32m    866\u001b[0m     \u001b[39m# Cleanup if the child failed starting.\u001b[39;00m\n\u001b[1;32m    867\u001b[0m     \u001b[39mfor\u001b[39;00m f \u001b[39min\u001b[39;00m \u001b[39mfilter\u001b[39m(\u001b[39mNone\u001b[39;00m, (\u001b[39mself\u001b[39m\u001b[39m.\u001b[39mstdin, \u001b[39mself\u001b[39m\u001b[39m.\u001b[39mstdout, \u001b[39mself\u001b[39m\u001b[39m.\u001b[39mstderr)):\n",
      "File \u001b[0;32m/usr/lib/python3.8/subprocess.py:1704\u001b[0m, in \u001b[0;36mPopen._execute_child\u001b[0;34m(self, args, executable, preexec_fn, close_fds, pass_fds, cwd, env, startupinfo, creationflags, shell, p2cread, p2cwrite, c2pread, c2pwrite, errread, errwrite, restore_signals, start_new_session)\u001b[0m\n\u001b[1;32m   1702\u001b[0m     \u001b[39mif\u001b[39;00m errno_num \u001b[39m!=\u001b[39m \u001b[39m0\u001b[39m:\n\u001b[1;32m   1703\u001b[0m         err_msg \u001b[39m=\u001b[39m os\u001b[39m.\u001b[39mstrerror(errno_num)\n\u001b[0;32m-> 1704\u001b[0m     \u001b[39mraise\u001b[39;00m child_exception_type(errno_num, err_msg, err_filename)\n\u001b[1;32m   1705\u001b[0m \u001b[39mraise\u001b[39;00m child_exception_type(err_msg)\n",
      "\u001b[0;31mFileNotFoundError\u001b[0m: [Errno 2] No such file or directory: 'ffprobe'"
     ]
    }
   ],
   "source": [
    "dataset = SceneDataset(paths = [\"/home/abdalla/TorchGANime/data/kny/raw_videos/01.mkv\"], show_progress=True)"
   ]
  },
  {
   "cell_type": "code",
   "execution_count": null,
   "metadata": {},
   "outputs": [],
   "source": []
  }
 ],
 "metadata": {
  "kernelspec": {
   "display_name": "venv",
   "language": "python",
   "name": "python3"
  },
  "language_info": {
   "codemirror_mode": {
    "name": "ipython",
    "version": 3
   },
   "file_extension": ".py",
   "mimetype": "text/x-python",
   "name": "python",
   "nbconvert_exporter": "python",
   "pygments_lexer": "ipython3",
   "version": "3.8.10"
  },
  "orig_nbformat": 4,
  "vscode": {
   "interpreter": {
    "hash": "31ae8cd823759671a542fb948385bf6b2f8ab16fa3698fe82a530ef05cfee5b5"
   }
  }
 },
 "nbformat": 4,
 "nbformat_minor": 2
}
