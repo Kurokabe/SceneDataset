{
 "cells": [
  {
   "cell_type": "code",
   "execution_count": 1,
   "metadata": {},
   "outputs": [],
   "source": [
    "%load_ext autoreload\n",
    "%autoreload 2"
   ]
  },
  {
   "cell_type": "code",
   "execution_count": null,
   "metadata": {},
   "outputs": [],
   "source": [
    "from scenedataset.scenedataset import SceneDataset\n",
    "from torchvision import transforms\n",
    "from torchvision.transforms import _transforms_video as video_transforms"
   ]
  },
  {
   "cell_type": "code",
   "execution_count": null,
   "metadata": {},
   "outputs": [],
   "source": [
    "dataset = SceneDataset(\n",
    "    paths=[\"/SceneDataset/data/01.mkv\", \"/SceneDataset/data/02.mkv\"],\n",
    "    show_progress=True,\n",
    "    transform=transforms.Compose(\n",
    "        [video_transforms.ToTensorVideo(), transforms.Resize((128, 256))]\n",
    "    ),\n",
    "    min_max_len=(15, 25),\n",
    "    duplicate_threshold=0.01,\n",
    "    duplicate_metric=\"mse\",\n",
    "    device=\"cpu\",\n",
    "    root_dir=\"/SceneDataset/data/.cache\",\n",
    "    num_workers=2\n",
    ")\n"
   ]
  },
  {
   "cell_type": "code",
   "execution_count": null,
   "metadata": {},
   "outputs": [],
   "source": [
    "str(dataset.scenes)"
   ]
  },
  {
   "cell_type": "code",
   "execution_count": null,
   "metadata": {},
   "outputs": [],
   "source": [
    "dataset.scenes"
   ]
  },
  {
   "cell_type": "code",
   "execution_count": null,
   "metadata": {},
   "outputs": [],
   "source": []
  }
 ],
 "metadata": {
  "kernelspec": {
   "display_name": "scenedataset-mZH_Fr2s-py3.8",
   "language": "python",
   "name": "python3"
  },
  "language_info": {
   "codemirror_mode": {
    "name": "ipython",
    "version": 3
   },
   "file_extension": ".py",
   "mimetype": "text/x-python",
   "name": "python",
   "nbconvert_exporter": "python",
   "pygments_lexer": "ipython3",
   "version": "3.8.16"
  },
  "orig_nbformat": 4,
  "vscode": {
   "interpreter": {
    "hash": "a5d9115d08c17040944e5b7fbe5eb793d63549107852724990245c0de104487d"
   }
  }
 },
 "nbformat": 4,
 "nbformat_minor": 2
}
